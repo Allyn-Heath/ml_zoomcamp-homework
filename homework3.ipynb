{
 "cells": [
  {
   "cell_type": "code",
   "execution_count": 363,
   "id": "f55c5c13",
   "metadata": {},
   "outputs": [],
   "source": [
    "import pandas as pd\n",
    "from sklearn.linear_model import LogisticRegression\n",
    "from sklearn.feature_extraction import DictVectorizer\n",
    "from sklearn.metrics import mutual_info_score\n",
    "from sklearn.metrics import adjusted_mutual_info_score\n",
    "from IPython.display import display\n",
    "from sklearn.model_selection import train_test_split\n",
    "import pandas as pd\n",
    "import numpy as np\n",
    "import matplotlib.pyplot as plt"
   ]
  },
  {
   "cell_type": "code",
   "execution_count": 364,
   "id": "f466296b",
   "metadata": {},
   "outputs": [
    {
     "name": "stdout",
     "output_type": "stream",
     "text": [
      "<class 'pandas.core.frame.DataFrame'>\n",
      "RangeIndex: 1462 entries, 0 to 1461\n",
      "Data columns (total 9 columns):\n",
      " #   Column                    Non-Null Count  Dtype  \n",
      "---  ------                    --------------  -----  \n",
      " 0   lead_source               1334 non-null   object \n",
      " 1   industry                  1328 non-null   object \n",
      " 2   number_of_courses_viewed  1462 non-null   int64  \n",
      " 3   annual_income             1281 non-null   float64\n",
      " 4   employment_status         1362 non-null   object \n",
      " 5   location                  1399 non-null   object \n",
      " 6   interaction_count         1462 non-null   int64  \n",
      " 7   lead_score                1462 non-null   float64\n",
      " 8   converted                 1462 non-null   int64  \n",
      "dtypes: float64(2), int64(3), object(4)\n",
      "memory usage: 102.9+ KB\n",
      "None\n"
     ]
    },
    {
     "data": {
      "text/plain": [
       "lead_source                 128\n",
       "industry                    134\n",
       "number_of_courses_viewed      0\n",
       "annual_income               181\n",
       "employment_status           100\n",
       "location                     63\n",
       "interaction_count             0\n",
       "lead_score                    0\n",
       "converted                     0\n",
       "dtype: int64"
      ]
     },
     "execution_count": 364,
     "metadata": {},
     "output_type": "execute_result"
    }
   ],
   "source": [
    "df = pd.read_csv(\"course_lead_scoring.csv\")\n",
    "print(df.info())\n",
    "df.isnull().sum()"
   ]
  },
  {
   "cell_type": "code",
   "execution_count": 365,
   "id": "e23bc9b5",
   "metadata": {},
   "outputs": [
    {
     "name": "stderr",
     "output_type": "stream",
     "text": [
      "C:\\Users\\ialnassr\\AppData\\Local\\Temp\\ipykernel_24504\\2562006015.py:1: SettingWithCopyWarning: \n",
      "A value is trying to be set on a copy of a slice from a DataFrame\n",
      "\n",
      "See the caveats in the documentation: https://pandas.pydata.org/pandas-docs/stable/user_guide/indexing.html#returning-a-view-versus-a-copy\n",
      "  df[[\"number_of_courses_viewed\", \"annual_income\", \"interaction_count\", \"lead_score\"]].fillna(0.0, inplace=True)\n",
      "C:\\Users\\ialnassr\\AppData\\Local\\Temp\\ipykernel_24504\\2562006015.py:2: FutureWarning: A value is trying to be set on a copy of a DataFrame or Series through chained assignment using an inplace method.\n",
      "The behavior will change in pandas 3.0. This inplace method will never work because the intermediate object on which we are setting values always behaves as a copy.\n",
      "\n",
      "For example, when doing 'df[col].method(value, inplace=True)', try using 'df.method({col: value}, inplace=True)' or df[col] = df[col].method(value) instead, to perform the operation inplace on the original object.\n",
      "\n",
      "\n",
      "  df.annual_income.fillna(0.0, inplace=True)\n",
      "C:\\Users\\ialnassr\\AppData\\Local\\Temp\\ipykernel_24504\\2562006015.py:3: FutureWarning: A value is trying to be set on a copy of a DataFrame or Series through chained assignment using an inplace method.\n",
      "The behavior will change in pandas 3.0. This inplace method will never work because the intermediate object on which we are setting values always behaves as a copy.\n",
      "\n",
      "For example, when doing 'df[col].method(value, inplace=True)', try using 'df.method({col: value}, inplace=True)' or df[col] = df[col].method(value) instead, to perform the operation inplace on the original object.\n",
      "\n",
      "\n",
      "  df.lead_source.fillna(\"NA\", inplace=True)\n",
      "C:\\Users\\ialnassr\\AppData\\Local\\Temp\\ipykernel_24504\\2562006015.py:4: FutureWarning: A value is trying to be set on a copy of a DataFrame or Series through chained assignment using an inplace method.\n",
      "The behavior will change in pandas 3.0. This inplace method will never work because the intermediate object on which we are setting values always behaves as a copy.\n",
      "\n",
      "For example, when doing 'df[col].method(value, inplace=True)', try using 'df.method({col: value}, inplace=True)' or df[col] = df[col].method(value) instead, to perform the operation inplace on the original object.\n",
      "\n",
      "\n",
      "  df.industry.fillna(\"NA\", inplace=True)\n",
      "C:\\Users\\ialnassr\\AppData\\Local\\Temp\\ipykernel_24504\\2562006015.py:5: FutureWarning: A value is trying to be set on a copy of a DataFrame or Series through chained assignment using an inplace method.\n",
      "The behavior will change in pandas 3.0. This inplace method will never work because the intermediate object on which we are setting values always behaves as a copy.\n",
      "\n",
      "For example, when doing 'df[col].method(value, inplace=True)', try using 'df.method({col: value}, inplace=True)' or df[col] = df[col].method(value) instead, to perform the operation inplace on the original object.\n",
      "\n",
      "\n",
      "  df.employment_status.fillna(\"NA\", inplace=True)\n",
      "C:\\Users\\ialnassr\\AppData\\Local\\Temp\\ipykernel_24504\\2562006015.py:6: FutureWarning: A value is trying to be set on a copy of a DataFrame or Series through chained assignment using an inplace method.\n",
      "The behavior will change in pandas 3.0. This inplace method will never work because the intermediate object on which we are setting values always behaves as a copy.\n",
      "\n",
      "For example, when doing 'df[col].method(value, inplace=True)', try using 'df.method({col: value}, inplace=True)' or df[col] = df[col].method(value) instead, to perform the operation inplace on the original object.\n",
      "\n",
      "\n",
      "  df.location.fillna(\"NA\", inplace=True)\n"
     ]
    }
   ],
   "source": [
    "df[[\"number_of_courses_viewed\", \"annual_income\", \"interaction_count\", \"lead_score\"]].fillna(0.0, inplace=True)\n",
    "df.annual_income.fillna(0.0, inplace=True)\n",
    "df.lead_source.fillna(\"NA\", inplace=True)\n",
    "df.industry.fillna(\"NA\", inplace=True)\n",
    "df.employment_status.fillna(\"NA\", inplace=True)\n",
    "df.location.fillna(\"NA\", inplace=True)"
   ]
  },
  {
   "cell_type": "code",
   "execution_count": 366,
   "id": "b729474b",
   "metadata": {},
   "outputs": [
    {
     "name": "stdout",
     "output_type": "stream",
     "text": [
      "<class 'pandas.core.frame.DataFrame'>\n",
      "RangeIndex: 1462 entries, 0 to 1461\n",
      "Data columns (total 9 columns):\n",
      " #   Column                    Non-Null Count  Dtype  \n",
      "---  ------                    --------------  -----  \n",
      " 0   lead_source               1462 non-null   object \n",
      " 1   industry                  1462 non-null   object \n",
      " 2   number_of_courses_viewed  1462 non-null   int64  \n",
      " 3   annual_income             1462 non-null   float64\n",
      " 4   employment_status         1462 non-null   object \n",
      " 5   location                  1462 non-null   object \n",
      " 6   interaction_count         1462 non-null   int64  \n",
      " 7   lead_score                1462 non-null   float64\n",
      " 8   converted                 1462 non-null   int64  \n",
      "dtypes: float64(2), int64(3), object(4)\n",
      "memory usage: 102.9+ KB\n"
     ]
    }
   ],
   "source": [
    "df.info()"
   ]
  },
  {
   "cell_type": "code",
   "execution_count": 367,
   "id": "792e3cec",
   "metadata": {},
   "outputs": [
    {
     "data": {
      "text/plain": [
       "Index(['lead_source', 'industry', 'number_of_courses_viewed', 'annual_income',\n",
       "       'employment_status', 'location', 'interaction_count', 'lead_score',\n",
       "       'converted'],\n",
       "      dtype='object')"
      ]
     },
     "execution_count": 367,
     "metadata": {},
     "output_type": "execute_result"
    }
   ],
   "source": [
    "df.columns\n"
   ]
  },
  {
   "cell_type": "code",
   "execution_count": 368,
   "id": "ea5bcb29",
   "metadata": {},
   "outputs": [
    {
     "data": {
      "text/html": [
       "<div>\n",
       "<style scoped>\n",
       "    .dataframe tbody tr th:only-of-type {\n",
       "        vertical-align: middle;\n",
       "    }\n",
       "\n",
       "    .dataframe tbody tr th {\n",
       "        vertical-align: top;\n",
       "    }\n",
       "\n",
       "    .dataframe thead th {\n",
       "        text-align: right;\n",
       "    }\n",
       "</style>\n",
       "<table border=\"1\" class=\"dataframe\">\n",
       "  <thead>\n",
       "    <tr style=\"text-align: right;\">\n",
       "      <th></th>\n",
       "      <th>lead_source</th>\n",
       "      <th>industry</th>\n",
       "      <th>employment_status</th>\n",
       "      <th>location</th>\n",
       "    </tr>\n",
       "  </thead>\n",
       "  <tbody>\n",
       "    <tr>\n",
       "      <th>0</th>\n",
       "      <td>paid_ads</td>\n",
       "      <td>NA</td>\n",
       "      <td>unemployed</td>\n",
       "      <td>south_america</td>\n",
       "    </tr>\n",
       "    <tr>\n",
       "      <th>1</th>\n",
       "      <td>social_media</td>\n",
       "      <td>retail</td>\n",
       "      <td>employed</td>\n",
       "      <td>south_america</td>\n",
       "    </tr>\n",
       "    <tr>\n",
       "      <th>2</th>\n",
       "      <td>events</td>\n",
       "      <td>healthcare</td>\n",
       "      <td>unemployed</td>\n",
       "      <td>australia</td>\n",
       "    </tr>\n",
       "    <tr>\n",
       "      <th>3</th>\n",
       "      <td>paid_ads</td>\n",
       "      <td>retail</td>\n",
       "      <td>NA</td>\n",
       "      <td>australia</td>\n",
       "    </tr>\n",
       "    <tr>\n",
       "      <th>4</th>\n",
       "      <td>referral</td>\n",
       "      <td>education</td>\n",
       "      <td>self_employed</td>\n",
       "      <td>europe</td>\n",
       "    </tr>\n",
       "  </tbody>\n",
       "</table>\n",
       "</div>"
      ],
      "text/plain": [
       "    lead_source    industry employment_status       location\n",
       "0      paid_ads          NA        unemployed  south_america\n",
       "1  social_media      retail          employed  south_america\n",
       "2        events  healthcare        unemployed      australia\n",
       "3      paid_ads      retail                NA      australia\n",
       "4      referral   education     self_employed         europe"
      ]
     },
     "execution_count": 368,
     "metadata": {},
     "output_type": "execute_result"
    }
   ],
   "source": [
    "categorical = ['lead_source','industry', 'employment_status', 'location']\n",
    "df[categorical].head()"
   ]
  },
  {
   "cell_type": "code",
   "execution_count": 369,
   "id": "381c9410",
   "metadata": {},
   "outputs": [
    {
     "name": "stdout",
     "output_type": "stream",
     "text": [
      "<class 'pandas.core.frame.DataFrame'>\n",
      "RangeIndex: 1462 entries, 0 to 1461\n",
      "Data columns (total 9 columns):\n",
      " #   Column                    Non-Null Count  Dtype  \n",
      "---  ------                    --------------  -----  \n",
      " 0   lead_source               1462 non-null   object \n",
      " 1   industry                  1462 non-null   object \n",
      " 2   number_of_courses_viewed  1462 non-null   int64  \n",
      " 3   annual_income             1462 non-null   float64\n",
      " 4   employment_status         1462 non-null   object \n",
      " 5   location                  1462 non-null   object \n",
      " 6   interaction_count         1462 non-null   int64  \n",
      " 7   lead_score                1462 non-null   float64\n",
      " 8   converted                 1462 non-null   int64  \n",
      "dtypes: float64(2), int64(3), object(4)\n",
      "memory usage: 102.9+ KB\n"
     ]
    }
   ],
   "source": [
    "df.info()"
   ]
  },
  {
   "cell_type": "code",
   "execution_count": 370,
   "id": "e3feabf5",
   "metadata": {},
   "outputs": [],
   "source": [
    "numerical = [\"number_of_courses_viewed\", \"annual_income\", \"interaction_count\", \"lead_score\"]"
   ]
  },
  {
   "cell_type": "markdown",
   "id": "59e546e2",
   "metadata": {},
   "source": [
    "Question 1"
   ]
  },
  {
   "cell_type": "code",
   "execution_count": 371,
   "id": "0c325033",
   "metadata": {},
   "outputs": [
    {
     "data": {
      "text/plain": [
       "industry\n",
       "retail           203\n",
       "finance          200\n",
       "other            198\n",
       "healthcare       187\n",
       "education        187\n",
       "technology       179\n",
       "manufacturing    174\n",
       "NA               134\n",
       "Name: count, dtype: int64"
      ]
     },
     "execution_count": 371,
     "metadata": {},
     "output_type": "execute_result"
    }
   ],
   "source": [
    "df[categorical].industry.value_counts(dropna=False)\n",
    "# retail = 203"
   ]
  },
  {
   "cell_type": "code",
   "execution_count": 372,
   "id": "7d21e848",
   "metadata": {},
   "outputs": [],
   "source": [
    "courses = df[numerical].number_of_courses_viewed\n",
    "income = df[numerical].annual_income\n",
    "interaction = df[numerical].interaction_count\n",
    "lead_source = df[numerical].lead_score"
   ]
  },
  {
   "cell_type": "markdown",
   "id": "065c630d",
   "metadata": {},
   "source": [
    "Question 2"
   ]
  },
  {
   "cell_type": "code",
   "execution_count": 373,
   "id": "b8b9b9db",
   "metadata": {},
   "outputs": [
    {
     "name": "stdout",
     "output_type": "stream",
     "text": [
      "0.009888182496913084\n",
      "-0.004878998354681256\n",
      "-0.023565222882888044\n",
      "0.027036472404814348\n",
      "annual_income interation_count\n"
     ]
    }
   ],
   "source": [
    "\n",
    "print(df[numerical].interaction_count.corr(df[numerical].lead_score))\n",
    "print(df[numerical].number_of_courses_viewed.corr(df[numerical].lead_score))\n",
    "print(df[numerical].number_of_courses_viewed.corr(df[numerical].interaction_count))\n",
    "print(df[numerical].annual_income.corr(df[numerical].interaction_count))\n",
    "# 0.009888182496913084\n",
    "# -0.004878998354681256\n",
    "# -0.023565222882888044\n",
    "# 0.027036472404814348\n",
    "print(\"annual_income\", \"interation_count\")"
   ]
  },
  {
   "cell_type": "code",
   "execution_count": 374,
   "id": "06a80c0b",
   "metadata": {},
   "outputs": [
    {
     "data": {
      "text/plain": [
       "(876, 293, 293)"
      ]
     },
     "execution_count": 374,
     "metadata": {},
     "output_type": "execute_result"
    }
   ],
   "source": [
    "# first creates a split of 20/80 full/test sets\n",
    "df_full_train, df_test = train_test_split(df, test_size=0.2, random_state=42)\n",
    "# applying it a second time gives 60/20/20 split\n",
    "# here we have to use 25% of the original 80% full_train\n",
    "# to get the desired split. 20/80 = 25\n",
    "df_train, df_val = train_test_split(df_full_train, test_size=0.25, random_state=42)\n",
    "len(df_train), len(df_val), len(df_test)"
   ]
  },
  {
   "cell_type": "code",
   "execution_count": 375,
   "id": "24f6bf7d",
   "metadata": {},
   "outputs": [],
   "source": [
    "df_train = df_train.reset_index(drop=True)\n",
    "df_val = df_val.reset_index(drop=True)\n",
    "df_test = df_test.reset_index(drop=True)\n",
    "y_train = df_train.converted.values\n",
    "y_val = df_val.converted.values\n",
    "y_test = df_test.converted.values\n",
    "\n",
    "del df_train['converted']\n",
    "del df_val['converted']\n",
    "del df_test['converted']\n",
    "del df_full_train['converted']"
   ]
  },
  {
   "cell_type": "code",
   "execution_count": 376,
   "id": "6e17a2db",
   "metadata": {},
   "outputs": [
    {
     "data": {
      "text/plain": [
       "Index(['lead_source', 'industry', 'employment_status', 'location'], dtype='object')"
      ]
     },
     "execution_count": 376,
     "metadata": {},
     "output_type": "execute_result"
    }
   ],
   "source": [
    "df[categorical].columns"
   ]
  },
  {
   "cell_type": "markdown",
   "id": "35e046c0",
   "metadata": {},
   "source": [
    "Question 3"
   ]
  },
  {
   "cell_type": "code",
   "execution_count": 377,
   "id": "265b4012",
   "metadata": {},
   "outputs": [
    {
     "name": "stdout",
     "output_type": "stream",
     "text": [
      "lead_source : 0.03539624379726594\n",
      "industry : 0.011574521435657112\n",
      "employment_status : 0.012937677269442782\n",
      "location : 0.004464157884038034\n"
     ]
    }
   ],
   "source": [
    "for x in df_train[categorical]:\n",
    "    print(x,  \":\", mutual_info_score(df_train[categorical][x], y_train))\n",
    "\n",
    "# lead_source : .035\n",
    "\n",
    "# adjusted_mutual_info_score(df_full_train.churn, df_full_train.contract)"
   ]
  },
  {
   "cell_type": "code",
   "execution_count": 378,
   "id": "24144414",
   "metadata": {},
   "outputs": [],
   "source": [
    "# define function, so only one variable is called for function .apply\n",
    "def mutual_info_churn_score(series):\n",
    "    return mutual_info_score(series, y_train)\n"
   ]
  },
  {
   "cell_type": "code",
   "execution_count": 379,
   "id": "cbd3ede9",
   "metadata": {},
   "outputs": [
    {
     "data": {
      "text/plain": [
       "lead_source          0.035396\n",
       "employment_status    0.012938\n",
       "industry             0.011575\n",
       "location             0.004464\n",
       "dtype: float64"
      ]
     },
     "execution_count": 379,
     "metadata": {},
     "output_type": "execute_result"
    }
   ],
   "source": [
    "mi = df_train[categorical].apply(mutual_info_churn_score) \n",
    "mi.sort_values(ascending=False)"
   ]
  },
  {
   "cell_type": "markdown",
   "id": "94ea83a1",
   "metadata": {},
   "source": [
    "Question 4"
   ]
  },
  {
   "cell_type": "code",
   "execution_count": 380,
   "id": "6ca26c2d",
   "metadata": {},
   "outputs": [
    {
     "data": {
      "text/plain": [
       "['lead_source', 'industry', 'employment_status', 'location']"
      ]
     },
     "execution_count": 380,
     "metadata": {},
     "output_type": "execute_result"
    }
   ],
   "source": [
    "categorical\n"
   ]
  },
  {
   "cell_type": "code",
   "execution_count": 381,
   "id": "e54919cb",
   "metadata": {},
   "outputs": [],
   "source": [
    "dv = DictVectorizer(sparse=False) # false to comporessed matrix\n",
    "\n",
    "train_dict = df_train[categorical + numerical].to_dict(orient='records')\n",
    "X_train = dv.fit_transform(train_dict) \n",
    "# equivalent to .fit & .transform\n",
    "\n",
    "val_dict = df_val[categorical + numerical].to_dict(orient='records')\n",
    "X_val = dv.transform(val_dict)\n",
    "#also on validation data"
   ]
  },
  {
   "cell_type": "code",
   "execution_count": 382,
   "id": "ba00a260",
   "metadata": {},
   "outputs": [],
   "source": [
    "def sigmoid(z):\n",
    "    return 1 / (1 + np.exp(-z))"
   ]
  },
  {
   "cell_type": "code",
   "execution_count": 383,
   "id": "492bf855",
   "metadata": {},
   "outputs": [],
   "source": [
    "def logistic_regression(xi):\n",
    "    score = w0\n",
    "    \n",
    "    for j in range(len(w)):\n",
    "        score = score + xi[j] * w[j]\n",
    "        \n",
    "    result = sigmoid(score)\n",
    "    return result"
   ]
  },
  {
   "cell_type": "code",
   "execution_count": 384,
   "id": "66c0ea72",
   "metadata": {},
   "outputs": [
    {
     "data": {
      "text/plain": [
       "array([-0.   , -0.015,  0.034,  0.003,  0.012, -0.103, -0.025,  0.049,\n",
       "       -0.02 , -0.013, -0.003, -0.009, -0.032, -0.016,  0.311,  0.051,\n",
       "        0.02 , -0.012, -0.012, -0.115,  0.08 , -0.03 ,  0.004, -0.011,\n",
       "       -0.011, -0.006,  0.008,  0.006, -0.033, -0.025,  0.454])"
      ]
     },
     "execution_count": 384,
     "metadata": {},
     "output_type": "execute_result"
    }
   ],
   "source": [
    "model = LogisticRegression(solver='liblinear', C=1.0, max_iter=1000, random_state=42)\n",
    "# solver='lbfgs' is the default solver in newer version of sklearn\n",
    "# for older versions, you need to specify it explicitly\n",
    "model.fit(X_train, y_train)\n",
    "model.intercept_[0]\n",
    "model.coef_[0].round(3)"
   ]
  },
  {
   "cell_type": "markdown",
   "id": "6a600295",
   "metadata": {},
   "source": [
    "Question 5"
   ]
  },
  {
   "cell_type": "code",
   "execution_count": 385,
   "id": "9c0fa2ed",
   "metadata": {},
   "outputs": [
    {
     "data": {
      "text/plain": [
       "[('lead_source', 'industry', 'employment_status'),\n",
       " ('lead_source', 'industry', 'location'),\n",
       " ('lead_source', 'employment_status', 'location'),\n",
       " ('industry', 'employment_status', 'location')]"
      ]
     },
     "execution_count": 385,
     "metadata": {},
     "output_type": "execute_result"
    }
   ],
   "source": [
    "import itertools\n",
    "\n",
    "categorical_lists = list(itertools.combinations(categorical, 3))\n",
    "categorical_industry = categorical_lists[0]\n",
    "categorical_location = categorical_lists[1]\n",
    "categorical_employment = categorical_lists[2]\n",
    "categorical_source = categorical_lists[3]\n",
    "categorical_location = list(categorical_location)\n",
    "categorical_employment = list(categorical_employment)\n",
    "categorical_industry = list(categorical_industry)\n",
    "categorical_source = list(categorical_source)\n",
    "categorical_lists = list(categorical_lists)\n",
    "categorical_lists"
   ]
  },
  {
   "cell_type": "code",
   "execution_count": 386,
   "id": "d640f0ae",
   "metadata": {},
   "outputs": [
    {
     "name": "stdout",
     "output_type": "stream",
     "text": [
      "('lead_source', 'industry', 'employment_status') : -0.010238907849829393\n",
      "('lead_source', 'industry', 'location') : 0.0034129692832763903\n",
      "('lead_source', 'employment_status', 'location') : 0.0\n",
      "('industry', 'employment_status', 'location') : -0.0034129692832765013\n"
     ]
    }
   ],
   "source": [
    "for x in categorical_lists:\n",
    "    \n",
    "    dv = DictVectorizer(sparse=False) # false to comporessed matrix\n",
    "\n",
    "    train_dict = df_train[list(x) + numerical].to_dict(orient='records')\n",
    "    X_train = dv.fit_transform(train_dict) \n",
    "    # equivalent to .fit & .transform\n",
    "\n",
    "    val_dict = df_val[list(x) + numerical].to_dict(orient='records')\n",
    "    X_val = dv.transform(val_dict)\n",
    "    #also on validation data\n",
    "\n",
    "    model = LogisticRegression(solver='liblinear', C=1.0, max_iter=1000, random_state=42)\n",
    "    # solver='lbfgs' is the default solver in newer version of sklearn\n",
    "    # for older versions, you need to specify it explicitly\n",
    "    model.fit(X_train, y_train)\n",
    "    model.intercept_[0]\n",
    "    model.coef_[0].round(3)\n",
    "\n",
    "    from sklearn.metrics import accuracy_score\n",
    "    model.predict_proba(X_train)\n",
    "    y_pred = model.predict_proba(X_val)[:, 1]\n",
    "\n",
    "    converted = (y_pred >= 0.50).astype(int)\n",
    "    print(x, \":\", 0.6996587030716723 - (y_val == converted).mean())\n"
   ]
  },
  {
   "cell_type": "markdown",
   "id": "5ba49bec",
   "metadata": {},
   "source": [
    "industry is smallest 0.0"
   ]
  },
  {
   "cell_type": "markdown",
   "id": "522968bf",
   "metadata": {},
   "source": [
    "Question 6"
   ]
  },
  {
   "cell_type": "code",
   "execution_count": 358,
   "id": "4bd93a4d",
   "metadata": {},
   "outputs": [
    {
     "name": "stdout",
     "output_type": "stream",
     "text": [
      "0.01: 0.511\n",
      "0.1: 0.511\n",
      "1: 0.512\n",
      "10: 0.512\n",
      "100: 0.512\n"
     ]
    }
   ],
   "source": [
    "for c in [0.01, 0.1, 1, 10, 100]:\n",
    "    \n",
    "    dv = DictVectorizer(sparse=False) # false to comporessed matrix\n",
    "\n",
    "    train_dict = df_train[categorical + numerical].to_dict(orient='records')\n",
    "    X_train = dv.fit_transform(train_dict) \n",
    "    # equivalent to .fit & .transform\n",
    "\n",
    "    val_dict = df_val[categorical + numerical].to_dict(orient='records')\n",
    "    X_val = dv.transform(val_dict)\n",
    "    #also on validation data\n",
    "    \n",
    "    model = LogisticRegression(solver='liblinear', C=c, max_iter=1000, random_state=42)\n",
    "    # solver='lbfgs' is the default solver in newer version of sklearn\n",
    "    # for older versions, you need to specify it explicitly\n",
    "    model.fit(X_train, y_train)\n",
    "    model.intercept_[0]\n",
    "    model.coef_[0]\n",
    "\n",
    "    from sklearn.metrics import accuracy_score\n",
    "    model.predict_proba(X_train)\n",
    "    y_pred = model.predict_proba(X_val)[:, 1]\n",
    "\n",
    "    converted = (y_pred >= 0.62).astype(int)\n",
    "    print(f\"{c}: {(y_val == converted).mean().round(3)}\")"
   ]
  },
  {
   "cell_type": "code",
   "execution_count": 355,
   "id": "4d0bb06c",
   "metadata": {},
   "outputs": [],
   "source": [
    "y_val = np.asarray(y_val)"
   ]
  },
  {
   "cell_type": "code",
   "execution_count": 357,
   "id": "f6c4e77f",
   "metadata": {},
   "outputs": [
    {
     "name": "stdout",
     "output_type": "stream",
     "text": [
      "0.01 0.5167212198161889\n",
      "0.1 0.5124928653799112\n",
      "1 0.5101864902328507\n",
      "10 0.5105708860906941\n",
      "100 0.5105708860906941\n"
     ]
    }
   ],
   "source": [
    "C = [0.01, 0.1, 1, 10, 100]\n",
    "for c in C:\n",
    "    dicts_train = df_train[categorical +numerical].to_dict(orient='records')\n",
    "    dv = DictVectorizer(sparse=False)\n",
    "    X_train = dv.fit_transform(dicts_train)\n",
    "    model = LogisticRegression(solver='lbfgs', C=c, max_iter=10000, random_state=42)\n",
    "    model.fit(X_train, y_train)\n",
    "\n",
    "    dicts_val = df_val[categorical + numerical].to_dict(orient='records')\n",
    "    X_val = dv.transform(dicts_val)\n",
    "    y_pred = model.predict(X_val)\n",
    "\n",
    "    acc = (y_val == y_pred).mean()\n",
    "    print(c, acc)"
   ]
  },
  {
   "cell_type": "code",
   "execution_count": 342,
   "id": "f1426236",
   "metadata": {},
   "outputs": [
    {
     "data": {
      "text/plain": [
       "0\n",
       "1    0.556314\n",
       "0    0.443686\n",
       "Name: proportion, dtype: float64"
      ]
     },
     "execution_count": 342,
     "metadata": {},
     "output_type": "execute_result"
    }
   ],
   "source": [
    "y_val = pd.DataFrame(y_val)\n",
    "y_val.value_counts(normalize=True)\n"
   ]
  },
  {
   "cell_type": "code",
   "execution_count": 345,
   "id": "4da61bf5",
   "metadata": {},
   "outputs": [
    {
     "name": "stdout",
     "output_type": "stream",
     "text": [
      "Best threshold: 0.62, Best accuracy: 0.795\n"
     ]
    }
   ],
   "source": [
    "import numpy as np\n",
    "from sklearn.metrics import accuracy_score\n",
    "\n",
    "best_thr = 0\n",
    "best_acc = 0\n",
    "\n",
    "for thr in np.arange(0.0, 1.01, 0.01):\n",
    "    preds = (y_pred_prob >= thr).astype(int)\n",
    "    acc = accuracy_score(y_val, preds)\n",
    "    if acc > best_acc:\n",
    "        best_acc = acc\n",
    "        best_thr = thr\n",
    "\n",
    "print(f\"Best threshold: {best_thr:.2f}, Best accuracy: {best_acc:.3f}\")\n"
   ]
  },
  {
   "cell_type": "code",
   "execution_count": 344,
   "id": "a7bf2079",
   "metadata": {},
   "outputs": [
    {
     "name": "stdout",
     "output_type": "stream",
     "text": [
      "ROC AUC: 0.8546956111373288\n"
     ]
    }
   ],
   "source": [
    "from sklearn.metrics import roc_auc_score\n",
    "auc = roc_auc_score(y_val, y_pred)\n",
    "print(\"ROC AUC:\", auc)\n"
   ]
  },
  {
   "cell_type": "code",
   "execution_count": 343,
   "id": "6b696180",
   "metadata": {},
   "outputs": [
    {
     "name": "stdout",
     "output_type": "stream",
     "text": [
      "0.20152555073494396 0.9773244633578183\n"
     ]
    }
   ],
   "source": [
    "y_pred_prob = model.predict_proba(X_val)[:, 1]\n",
    "print(y_pred_prob.min(), y_pred_prob.max())\n"
   ]
  }
 ],
 "metadata": {
  "kernelspec": {
   "display_name": "base",
   "language": "python",
   "name": "python3"
  },
  "language_info": {
   "codemirror_mode": {
    "name": "ipython",
    "version": 3
   },
   "file_extension": ".py",
   "mimetype": "text/x-python",
   "name": "python",
   "nbconvert_exporter": "python",
   "pygments_lexer": "ipython3",
   "version": "3.13.2"
  }
 },
 "nbformat": 4,
 "nbformat_minor": 5
}
